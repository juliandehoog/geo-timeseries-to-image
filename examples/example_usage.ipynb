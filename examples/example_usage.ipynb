{
 "cells": [
  {
   "cell_type": "markdown",
   "id": "5f681285",
   "metadata": {},
   "source": [
    "# Geo Time Series to Image\n",
    "\n",
    "This notebook shows some examples of how to use the package geots2img.\n",
    "\n",
    "---"
   ]
  },
  {
   "cell_type": "code",
   "execution_count": 1,
   "id": "3fc4e533",
   "metadata": {},
   "outputs": [],
   "source": [
    "# Standard libraries\n",
    "import pandas as pd\n",
    "\n",
    "# Import this package\n",
    "from geots2img import ImageGenerator\n",
    "from geots2img import generate_image_sequence, generate_video\n",
    "\n",
    "# Enable modules to be reloaded during development\n",
    "%load_ext autoreload\n",
    "%autoreload 2"
   ]
  },
  {
   "cell_type": "markdown",
   "id": "e3d16834",
   "metadata": {},
   "source": [
    "---\n",
    "\n",
    "### Set some parameters\n",
    "\n",
    "These are parameters that define that define the region we will use as an example -- they are relevant to the example data provided.\n",
    "\n",
    "Throughout this notebook we'll use latitute and longitude -- but the package can be used in the exact same way for any sets of x and y coordinates."
   ]
  },
  {
   "cell_type": "code",
   "execution_count": 2,
   "id": "2b6af952",
   "metadata": {},
   "outputs": [],
   "source": [
    "LAT_RANGE = [-32, -31.8]\n",
    "LON_RANGE = [115.7, 115.9]\n",
    "\n",
    "GEO_RES = 0.001"
   ]
  },
  {
   "cell_type": "markdown",
   "id": "8cc41f78",
   "metadata": {},
   "source": [
    "---\n",
    "\n",
    "### Load temperature data\n",
    "\n",
    "Some example data has been provided (in the same directory as this notebook).  The example data consists of hourly temperature measurements at 29 postcodes in Western Australia on 1 November 2020."
   ]
  },
  {
   "cell_type": "code",
   "execution_count": 3,
   "id": "0ded6147",
   "metadata": {},
   "outputs": [],
   "source": [
    "data = pd.read_csv('example_data.csv')"
   ]
  },
  {
   "cell_type": "code",
   "execution_count": 4,
   "id": "4179769d",
   "metadata": {},
   "outputs": [],
   "source": [
    "# Convert timestamp column to timestamp objects,\n",
    "# and set as index of the data frame\n",
    "data['timestamp'] = [pd.Timestamp(x) for x in data['timestamp']]\n",
    "data.set_index('timestamp', inplace = True)"
   ]
  },
  {
   "cell_type": "code",
   "execution_count": 5,
   "id": "d34572b2",
   "metadata": {},
   "outputs": [
    {
     "data": {
      "text/html": [
       "<div>\n",
       "<style scoped>\n",
       "    .dataframe tbody tr th:only-of-type {\n",
       "        vertical-align: middle;\n",
       "    }\n",
       "\n",
       "    .dataframe tbody tr th {\n",
       "        vertical-align: top;\n",
       "    }\n",
       "\n",
       "    .dataframe thead th {\n",
       "        text-align: right;\n",
       "    }\n",
       "</style>\n",
       "<table border=\"1\" class=\"dataframe\">\n",
       "  <thead>\n",
       "    <tr style=\"text-align: right;\">\n",
       "      <th></th>\n",
       "      <th>6090</th>\n",
       "      <th>6061</th>\n",
       "      <th>6018</th>\n",
       "      <th>6029</th>\n",
       "      <th>6019</th>\n",
       "    </tr>\n",
       "    <tr>\n",
       "      <th>timestamp</th>\n",
       "      <th></th>\n",
       "      <th></th>\n",
       "      <th></th>\n",
       "      <th></th>\n",
       "      <th></th>\n",
       "    </tr>\n",
       "  </thead>\n",
       "  <tbody>\n",
       "    <tr>\n",
       "      <th>2020-11-01 05:00:00+08:00</th>\n",
       "      <td>17.0</td>\n",
       "      <td>17.0</td>\n",
       "      <td>17.0</td>\n",
       "      <td>17.0</td>\n",
       "      <td>17.0</td>\n",
       "    </tr>\n",
       "    <tr>\n",
       "      <th>2020-11-01 06:00:00+08:00</th>\n",
       "      <td>16.0</td>\n",
       "      <td>16.0</td>\n",
       "      <td>16.0</td>\n",
       "      <td>16.0</td>\n",
       "      <td>16.0</td>\n",
       "    </tr>\n",
       "    <tr>\n",
       "      <th>2020-11-01 07:00:00+08:00</th>\n",
       "      <td>16.0</td>\n",
       "      <td>16.0</td>\n",
       "      <td>16.0</td>\n",
       "      <td>16.0</td>\n",
       "      <td>16.0</td>\n",
       "    </tr>\n",
       "    <tr>\n",
       "      <th>2020-11-01 08:00:00+08:00</th>\n",
       "      <td>16.0</td>\n",
       "      <td>16.0</td>\n",
       "      <td>15.0</td>\n",
       "      <td>15.0</td>\n",
       "      <td>15.0</td>\n",
       "    </tr>\n",
       "    <tr>\n",
       "      <th>2020-11-01 09:00:00+08:00</th>\n",
       "      <td>15.0</td>\n",
       "      <td>15.0</td>\n",
       "      <td>15.0</td>\n",
       "      <td>15.0</td>\n",
       "      <td>15.0</td>\n",
       "    </tr>\n",
       "  </tbody>\n",
       "</table>\n",
       "</div>"
      ],
      "text/plain": [
       "                           6090  6061  6018  6029  6019\n",
       "timestamp                                              \n",
       "2020-11-01 05:00:00+08:00  17.0  17.0  17.0  17.0  17.0\n",
       "2020-11-01 06:00:00+08:00  16.0  16.0  16.0  16.0  16.0\n",
       "2020-11-01 07:00:00+08:00  16.0  16.0  16.0  16.0  16.0\n",
       "2020-11-01 08:00:00+08:00  16.0  16.0  15.0  15.0  15.0\n",
       "2020-11-01 09:00:00+08:00  15.0  15.0  15.0  15.0  15.0"
      ]
     },
     "execution_count": 5,
     "metadata": {},
     "output_type": "execute_result"
    }
   ],
   "source": [
    "# Let's check out a subset of the data\n",
    "data.iloc[5:10, 5:10]"
   ]
  },
  {
   "cell_type": "code",
   "execution_count": 6,
   "id": "777c6b38",
   "metadata": {},
   "outputs": [
    {
     "data": {
      "text/html": [
       "<div>\n",
       "<style scoped>\n",
       "    .dataframe tbody tr th:only-of-type {\n",
       "        vertical-align: middle;\n",
       "    }\n",
       "\n",
       "    .dataframe tbody tr th {\n",
       "        vertical-align: top;\n",
       "    }\n",
       "\n",
       "    .dataframe thead th {\n",
       "        text-align: right;\n",
       "    }\n",
       "</style>\n",
       "<table border=\"1\" class=\"dataframe\">\n",
       "  <thead>\n",
       "    <tr style=\"text-align: right;\">\n",
       "      <th></th>\n",
       "      <th>6090</th>\n",
       "      <th>6061</th>\n",
       "      <th>6018</th>\n",
       "      <th>6029</th>\n",
       "      <th>6019</th>\n",
       "    </tr>\n",
       "    <tr>\n",
       "      <th>timestamp</th>\n",
       "      <th></th>\n",
       "      <th></th>\n",
       "      <th></th>\n",
       "      <th></th>\n",
       "      <th></th>\n",
       "    </tr>\n",
       "  </thead>\n",
       "  <tbody>\n",
       "    <tr>\n",
       "      <th>2020-11-01 05:00:00+08:00</th>\n",
       "      <td>0.666667</td>\n",
       "      <td>0.666667</td>\n",
       "      <td>0.666667</td>\n",
       "      <td>0.666667</td>\n",
       "      <td>0.666667</td>\n",
       "    </tr>\n",
       "    <tr>\n",
       "      <th>2020-11-01 06:00:00+08:00</th>\n",
       "      <td>0.500000</td>\n",
       "      <td>0.500000</td>\n",
       "      <td>0.500000</td>\n",
       "      <td>0.500000</td>\n",
       "      <td>0.500000</td>\n",
       "    </tr>\n",
       "    <tr>\n",
       "      <th>2020-11-01 07:00:00+08:00</th>\n",
       "      <td>0.500000</td>\n",
       "      <td>0.500000</td>\n",
       "      <td>0.500000</td>\n",
       "      <td>0.500000</td>\n",
       "      <td>0.500000</td>\n",
       "    </tr>\n",
       "    <tr>\n",
       "      <th>2020-11-01 08:00:00+08:00</th>\n",
       "      <td>0.500000</td>\n",
       "      <td>0.500000</td>\n",
       "      <td>0.333333</td>\n",
       "      <td>0.333333</td>\n",
       "      <td>0.333333</td>\n",
       "    </tr>\n",
       "    <tr>\n",
       "      <th>2020-11-01 09:00:00+08:00</th>\n",
       "      <td>0.333333</td>\n",
       "      <td>0.333333</td>\n",
       "      <td>0.333333</td>\n",
       "      <td>0.333333</td>\n",
       "      <td>0.333333</td>\n",
       "    </tr>\n",
       "  </tbody>\n",
       "</table>\n",
       "</div>"
      ],
      "text/plain": [
       "                               6090      6061      6018      6029      6019\n",
       "timestamp                                                                  \n",
       "2020-11-01 05:00:00+08:00  0.666667  0.666667  0.666667  0.666667  0.666667\n",
       "2020-11-01 06:00:00+08:00  0.500000  0.500000  0.500000  0.500000  0.500000\n",
       "2020-11-01 07:00:00+08:00  0.500000  0.500000  0.500000  0.500000  0.500000\n",
       "2020-11-01 08:00:00+08:00  0.500000  0.500000  0.333333  0.333333  0.333333\n",
       "2020-11-01 09:00:00+08:00  0.333333  0.333333  0.333333  0.333333  0.333333"
      ]
     },
     "execution_count": 6,
     "metadata": {},
     "output_type": "execute_result"
    }
   ],
   "source": [
    "# We need to scale these values to range [0, 1]\n",
    "from sklearn.preprocessing import MinMaxScaler\n",
    "scaler = MinMaxScaler() \n",
    "scaled_values = scaler.fit_transform(data.to_numpy().reshape(-1,1)) \n",
    "data.loc[:,:] = scaled_values.reshape(len(data), -1)\n",
    "data.iloc[5:10, 5:10]"
   ]
  },
  {
   "cell_type": "code",
   "execution_count": 7,
   "id": "5a52278c",
   "metadata": {},
   "outputs": [],
   "source": [
    "# Let's also store the postcodes for convenience\n",
    "postcodes = list(data.columns)"
   ]
  },
  {
   "cell_type": "markdown",
   "id": "8093c628",
   "metadata": {},
   "source": [
    "---\n",
    "\n",
    "### Load geospatial coordinates"
   ]
  },
  {
   "cell_type": "markdown",
   "id": "b5144830",
   "metadata": {},
   "source": [
    "There is another csv file that contains the latitudes and longitudes of the approximate centers of these postcodes."
   ]
  },
  {
   "cell_type": "code",
   "execution_count": 8,
   "id": "16cf6c6f",
   "metadata": {},
   "outputs": [],
   "source": [
    "latlons = pd.read_csv('example_latlons.csv')"
   ]
  },
  {
   "cell_type": "code",
   "execution_count": 9,
   "id": "452203ec",
   "metadata": {},
   "outputs": [],
   "source": [
    "# Make postcodes strings and set as index\n",
    "latlons['postcode'] = latlons['postcode'].astype(str)\n",
    "latlons.set_index('postcode', inplace = True)"
   ]
  },
  {
   "cell_type": "code",
   "execution_count": 10,
   "id": "8d281a9b",
   "metadata": {},
   "outputs": [
    {
     "data": {
      "text/html": [
       "<div>\n",
       "<style scoped>\n",
       "    .dataframe tbody tr th:only-of-type {\n",
       "        vertical-align: middle;\n",
       "    }\n",
       "\n",
       "    .dataframe tbody tr th {\n",
       "        vertical-align: top;\n",
       "    }\n",
       "\n",
       "    .dataframe thead th {\n",
       "        text-align: right;\n",
       "    }\n",
       "</style>\n",
       "<table border=\"1\" class=\"dataframe\">\n",
       "  <thead>\n",
       "    <tr style=\"text-align: right;\">\n",
       "      <th></th>\n",
       "      <th>lat</th>\n",
       "      <th>lon</th>\n",
       "    </tr>\n",
       "    <tr>\n",
       "      <th>postcode</th>\n",
       "      <th></th>\n",
       "      <th></th>\n",
       "    </tr>\n",
       "  </thead>\n",
       "  <tbody>\n",
       "    <tr>\n",
       "      <th>6023</th>\n",
       "      <td>-31.831300</td>\n",
       "      <td>115.775705</td>\n",
       "    </tr>\n",
       "    <tr>\n",
       "      <th>6024</th>\n",
       "      <td>-31.831328</td>\n",
       "      <td>115.806460</td>\n",
       "    </tr>\n",
       "    <tr>\n",
       "      <th>6064</th>\n",
       "      <td>-31.833288</td>\n",
       "      <td>115.851268</td>\n",
       "    </tr>\n",
       "    <tr>\n",
       "      <th>6020</th>\n",
       "      <td>-31.845285</td>\n",
       "      <td>115.755612</td>\n",
       "    </tr>\n",
       "    <tr>\n",
       "      <th>6066</th>\n",
       "      <td>-31.840688</td>\n",
       "      <td>115.898017</td>\n",
       "    </tr>\n",
       "  </tbody>\n",
       "</table>\n",
       "</div>"
      ],
      "text/plain": [
       "                lat         lon\n",
       "postcode                       \n",
       "6023     -31.831300  115.775705\n",
       "6024     -31.831328  115.806460\n",
       "6064     -31.833288  115.851268\n",
       "6020     -31.845285  115.755612\n",
       "6066     -31.840688  115.898017"
      ]
     },
     "execution_count": 10,
     "metadata": {},
     "output_type": "execute_result"
    }
   ],
   "source": [
    "# Check first five\n",
    "latlons[:5]"
   ]
  },
  {
   "cell_type": "markdown",
   "id": "02da0698",
   "metadata": {},
   "source": [
    "---\n",
    "\n",
    "### Generate single image\n",
    "\n",
    "Let's now explore some options for generating an image for one specific interval"
   ]
  },
  {
   "cell_type": "code",
   "execution_count": 11,
   "id": "587f0801",
   "metadata": {},
   "outputs": [],
   "source": [
    "# The interval for which to generate an image\n",
    "from dateutil import parser\n",
    "DATETIME = parser.parse('2020-11-01 12:00:00+08:00')"
   ]
  },
  {
   "cell_type": "code",
   "execution_count": 12,
   "id": "32d74131",
   "metadata": {},
   "outputs": [
    {
     "name": "stdout",
     "output_type": "stream",
     "text": [
      "[(115.89198859553905, -31.86042093433865), (115.84956244168356, -31.863476736936537), (115.78734936746204, -31.884060853496027), (115.75621147093167, -31.876142476355472), (115.76771584016473, -31.901720233489826)]\n",
      "[0.3333333333333335, 0.3333333333333335, 0.5, 0.5, 0.5]\n"
     ]
    }
   ],
   "source": [
    "# Generate lists of source data points and values\n",
    "source_points = []\n",
    "source_values = []\n",
    "for pc in postcodes:\n",
    "    [lon, lat] = latlons.loc[pc, ['lon', 'lat']]\n",
    "    value = data.loc[DATETIME, pc]\n",
    "    source_points.append((lon, lat))\n",
    "    source_values.append(value)\n",
    "\n",
    "# Display five example points and values\n",
    "print(source_points[5:10])\n",
    "print(source_values[5:10])"
   ]
  },
  {
   "cell_type": "code",
   "execution_count": 13,
   "id": "3916851f",
   "metadata": {},
   "outputs": [],
   "source": [
    "# Create geots2img image generator object\n",
    "image_gen = ImageGenerator(LON_RANGE, LAT_RANGE, GEO_RES)"
   ]
  },
  {
   "cell_type": "code",
   "execution_count": 14,
   "id": "45beae1f",
   "metadata": {},
   "outputs": [],
   "source": [
    "# Set the source points and values\n",
    "image_gen.set_source_points(source_points)\n",
    "image_gen.set_source_values(source_values)"
   ]
  },
  {
   "cell_type": "code",
   "execution_count": 15,
   "id": "edf9bfe5",
   "metadata": {},
   "outputs": [],
   "source": [
    "# Generate the image\n",
    "image_gen.generate_image()"
   ]
  },
  {
   "cell_type": "code",
   "execution_count": 16,
   "id": "3a1c5727",
   "metadata": {},
   "outputs": [
    {
     "data": {
      "image/png": "[encoded data removed]",
      "text/plain": [
       "<PIL.Image.Image image mode=RGBA size=201x201 at 0x128FEA430>"
      ]
     },
     "execution_count": 16,
     "metadata": {},
     "output_type": "execute_result"
    }
   ],
   "source": [
    "# Display the image\n",
    "image_gen.image"
   ]
  },
  {
   "cell_type": "markdown",
   "id": "3c578750",
   "metadata": {},
   "source": [
    "---\n",
    "\n",
    "### Customise single image"
   ]
  },
  {
   "cell_type": "markdown",
   "id": "d48990f0",
   "metadata": {},
   "source": [
    "In the above example, all the default values were used.  However, we have several options to customise the image.\n"
   ]
  },
  {
   "cell_type": "code",
   "execution_count": 17,
   "id": "b474b44d",
   "metadata": {},
   "outputs": [
    {
     "data": {
      "image/png": "[encoded data removed]",
      "text/plain": [
       "<PIL.Image.Image image mode=RGBA size=201x201 at 0x1051B90A0>"
      ]
     },
     "execution_count": 17,
     "metadata": {},
     "output_type": "execute_result"
    }
   ],
   "source": [
    "# Generate an image that does not include boundary points\n",
    "image_gen.generate_image(include_boundary_points=False, refit=True)\n",
    "image_gen.image"
   ]
  },
  {
   "cell_type": "code",
   "execution_count": 18,
   "id": "c3b7fa6c",
   "metadata": {},
   "outputs": [
    {
     "data": {
      "image/png": "[encoded data removed]",
      "text/plain": [
       "<PIL.Image.Image image mode=RGBA size=201x201 at 0x128FEA4C0>"
      ]
     },
     "execution_count": 18,
     "metadata": {},
     "output_type": "execute_result"
    }
   ],
   "source": [
    "# Change the color map\n",
    "import matplotlib.pyplot as plt\n",
    "image_gen.set_color_map(plt.get_cmap('viridis'))\n",
    "image_gen.generate_image(refit=True)\n",
    "image_gen.image"
   ]
  },
  {
   "cell_type": "code",
   "execution_count": 19,
   "id": "a0c0ab24",
   "metadata": {},
   "outputs": [
    {
     "data": {
      "image/png": "[encoded data removed]",
      "text/plain": [
       "<PIL.Image.Image image mode=RGBA size=201x201 at 0x105231E80>"
      ]
     },
     "execution_count": 19,
     "metadata": {},
     "output_type": "execute_result"
    }
   ],
   "source": [
    "# Avoid flipping y axis\n",
    "image_gen.generate_image(flip_y=False, refit=True)\n",
    "image_gen.image"
   ]
  },
  {
   "cell_type": "markdown",
   "id": "2a5a4d1c",
   "metadata": {},
   "source": [
    "There may be many other custom visualisations that could be useful.  For example, we may want to include axes, labels, a figure title, markers for source and/or boundary points, etc.\n",
    "\n",
    "For now, we recommend using another package (such as matplotlib.pyplot) for this purpose -- using images generated here as a background image.\n",
    "\n",
    "One example of how this can be done is provided below."
   ]
  },
  {
   "cell_type": "code",
   "execution_count": 20,
   "id": "1de6c874",
   "metadata": {},
   "outputs": [],
   "source": [
    "# Reset image\n",
    "image_gen = ImageGenerator(LON_RANGE, LAT_RANGE, GEO_RES)\n",
    "image_gen.set_source_points(source_points)\n",
    "image_gen.set_source_values(source_values)\n",
    "image_gen.generate_image()"
   ]
  },
  {
   "cell_type": "code",
   "execution_count": 21,
   "id": "602ada06",
   "metadata": {},
   "outputs": [
    {
     "data": {
      "image/png": "[encoded data removed]",
      "text/plain": [
       "<Figure size 432x432 with 1 Axes>"
      ]
     },
     "metadata": {
      "needs_background": "light"
     },
     "output_type": "display_data"
    }
   ],
   "source": [
    "import matplotlib.pyplot as plt\n",
    "fig, ax = plt.subplots(1, 1, figsize=[6, 6])\n",
    "\n",
    "# Axes, title\n",
    "ax.set_xlim(LON_RANGE)\n",
    "ax.set_ylim(LAT_RANGE)\n",
    "ax.set_title(\"Temperature at interval \" + DATETIME.strftime('%Y-%m-%d %H:%M:%S'))\n",
    "ax.set_xlabel(\"Longitude\")\n",
    "ax.set_ylabel(\"Latitude\")\n",
    "ax.set_xticks([115.7, 115.8, 115.9]);\n",
    "ax.set_yticks([-32.0, -31.9, -31.8]);\n",
    "\n",
    "# Background image\n",
    "ax.imshow(image_gen.image,\n",
    "          extent=[\n",
    "              LON_RANGE[0], LON_RANGE[1],\n",
    "              LAT_RANGE[0], LAT_RANGE[1]\n",
    "          ],\n",
    "          alpha=1);\n",
    "\n",
    "# Markers for source points\n",
    "source_x = [p[0] for p in image_gen.source_points]\n",
    "source_y = [p[1] for p in image_gen.source_points]\n",
    "scatter = ax.scatter(source_x, source_y, s=400, c=image_gen.source_values, \n",
    "           cmap=image_gen.cmap, marker=\"o\", edgecolors=\"green\", \n",
    "           vmin=0, vmax=1);\n",
    "\n",
    "# Markers for boundary points\n",
    "boundary_x = [p[0] for p in image_gen.boundary_points]\n",
    "boundary_y = [p[1] for p in image_gen.boundary_points]\n",
    "ax.scatter(boundary_x, boundary_y, s=400, c=image_gen.boundary_values, \n",
    "           cmap=image_gen.cmap, marker=\"o\", edgecolors=\"red\", \n",
    "           vmin=0, vmax=1);\n"
   ]
  },
  {
   "cell_type": "markdown",
   "id": "132753b0",
   "metadata": {},
   "source": [
    "---\n",
    "\n",
    "### Save image to file\n",
    "\n",
    "Saving image to file is easy:"
   ]
  },
  {
   "cell_type": "code",
   "execution_count": 22,
   "id": "fb591031",
   "metadata": {},
   "outputs": [],
   "source": [
    "image_gen.save_image(\"example_image.png\")"
   ]
  },
  {
   "cell_type": "markdown",
   "id": "070045f7",
   "metadata": {},
   "source": [
    "---\n",
    "\n",
    "### Extract fitted values\n",
    "\n",
    "For many applications we may not be interested in the visual image; rather, we want to use the values that result from fitting a surface to the source and boundary points.\n",
    "\n",
    "We can retrieve the full 2D array covering the entire area.  It is important to remember that this is a grid specified by our `x_range` and `y_range`, having our specified `resolution`."
   ]
  },
  {
   "cell_type": "code",
   "execution_count": 23,
   "id": "fe22955d",
   "metadata": {},
   "outputs": [
    {
     "data": {
      "text/plain": [
       "array([[0.5       , 0.49990619, 0.49981261, ..., 0.33077277, 0.33205151,\n",
       "        0.33333333],\n",
       "       [0.49994909, 0.49984953, 0.49974811, ..., 0.33074687, 0.33204375,\n",
       "        0.33333764],\n",
       "       [0.4998983 , 0.49979527, 0.49968833, ..., 0.33073566, 0.33204345,\n",
       "        0.33334193],\n",
       "       ...,\n",
       "       [0.33184429, 0.3322339 , 0.33249733, ..., 0.33347203, 0.33347397,\n",
       "        0.33347674],\n",
       "       [0.3326089 , 0.33286945, 0.33304416, ..., 0.33339388, 0.33340146,\n",
       "        0.33340559],\n",
       "       [0.33333333, 0.33351784, 0.33368988, ..., 0.33332169, 0.33332742,\n",
       "        0.33333333]])"
      ]
     },
     "execution_count": 23,
     "metadata": {},
     "output_type": "execute_result"
    }
   ],
   "source": [
    "image_gen.fitted_values"
   ]
  },
  {
   "cell_type": "markdown",
   "id": "8ad4eddf",
   "metadata": {},
   "source": [
    "Alternatively, we can just retrieve values for a specific set of points:"
   ]
  },
  {
   "cell_type": "code",
   "execution_count": 24,
   "id": "8c6dc4a5",
   "metadata": {},
   "outputs": [
    {
     "data": {
      "text/plain": [
       "[0.3332782439851541,\n",
       " 0.33327228071786213,\n",
       " 0.5029540690937016,\n",
       " 0.5025105259817195,\n",
       " 0.49933617515622514]"
      ]
     },
     "execution_count": 24,
     "metadata": {},
     "output_type": "execute_result"
    }
   ],
   "source": [
    "# Get our original source points as an array of [(x, y), ... ]\n",
    "points = []\n",
    "for pc in postcodes:\n",
    "    [lon, lat] = latlons.loc[pc, ['lon', 'lat']]\n",
    "    points.append([lon, lat])\n",
    "\n",
    "# Get fitted values for these specific points\n",
    "fitted_point_values = image_gen.get_fitted_point_values(points)\n",
    "\n",
    "# Display five example points\n",
    "fitted_point_values[5:10]"
   ]
  },
  {
   "cell_type": "markdown",
   "id": "b41f9cb8",
   "metadata": {},
   "source": [
    "---\n",
    "\n",
    "### Generate sequency of images and/or video\n",
    "\n",
    "Finally, we may want to generate a whole sequence of images, and we might want to convert these into a video."
   ]
  },
  {
   "cell_type": "code",
   "execution_count": 25,
   "id": "30b468c9",
   "metadata": {},
   "outputs": [],
   "source": [
    "# Create an image_generator object as before\n",
    "image_gen = ImageGenerator(LON_RANGE, LAT_RANGE, GEO_RES)\n",
    "image_gen.set_source_points(source_points)"
   ]
  },
  {
   "cell_type": "markdown",
   "id": "b0e08511",
   "metadata": {},
   "source": [
    "Now let's generate a sequence of images using this image generator.  Note that we can specify time period and path to which images should be saved, if we want to.  Here we'll just use defaults."
   ]
  },
  {
   "cell_type": "code",
   "execution_count": 26,
   "id": "825f30f2",
   "metadata": {},
   "outputs": [],
   "source": [
    "generate_image_sequence(data, image_gen)"
   ]
  },
  {
   "cell_type": "markdown",
   "id": "2aac6111",
   "metadata": {},
   "source": [
    "If you now navigate to the directory `examples/images`, you should find a set of images, one for each interval in the data.\n",
    "\n",
    "These images can be converted into a video using any standard tools.  Some basic support for command line tool `ffmpeg` is provided with the python function below:"
   ]
  },
  {
   "cell_type": "code",
   "execution_count": 27,
   "id": "80d47f9f",
   "metadata": {},
   "outputs": [],
   "source": [
    "generate_video(\n",
    "    source_path = 'images/', \n",
    "    target_path = 'example_video.mp4', \n",
    "    frame_rate = 5\n",
    ")"
   ]
  },
  {
   "cell_type": "markdown",
   "id": "dacf876f",
   "metadata": {},
   "source": [
    "The generated video can be found at `examples/example_video.mp4`."
   ]
  },
  {
   "cell_type": "markdown",
   "id": "7ce83a8f",
   "metadata": {},
   "source": [
    "In this instance (one day of temperature data), it's not that interesting in the end -- although it does indicate that one postcode seems to have either faulty sensors or unique characteristics.  However, for other types of time series data (like solar PV generation, for example), these types of visualisation can be very helpful."
   ]
  },
  {
   "cell_type": "code",
   "execution_count": null,
   "id": "56c7d432",
   "metadata": {},
   "outputs": [],
   "source": []
  }
 ],
 "metadata": {
  "kernelspec": {
   "display_name": "Python 3",
   "language": "python",
   "name": "python3"
  },
  "language_info": {
   "codemirror_mode": {
    "name": "ipython",
    "version": 3
   },
   "file_extension": ".py",
   "mimetype": "text/x-python",
   "name": "python",
   "nbconvert_exporter": "python",
   "pygments_lexer": "ipython3",
   "version": "3.9.5"
  }
 },
 "nbformat": 4,
 "nbformat_minor": 5
}
