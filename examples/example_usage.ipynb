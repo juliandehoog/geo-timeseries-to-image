{
 "cells": [
  {
   "cell_type": "markdown",
   "id": "5f681285",
   "metadata": {},
   "source": [
    "# Geo Time Series to Image\n",
    "\n",
    "This notebook shows some examples of how to use the package geots2img.\n",
    "\n",
    "---"
   ]
  },
  {
   "cell_type": "code",
   "execution_count": null,
   "id": "3fc4e533",
   "metadata": {},
   "outputs": [],
   "source": [
    "# Standard libraries\n",
    "import pandas as pd\n",
    "\n",
    "# Import this package\n",
    "import geots2img\n",
    "\n",
    "# Enable modules to be reloaded\n",
    "%load_ext autoreload\n",
    "%autoreload 2"
   ]
  },
  {
   "cell_type": "markdown",
   "id": "8cc41f78",
   "metadata": {},
   "source": [
    "---\n",
    "\n",
    "### Load data\n",
    "\n",
    "Some example data has been provided (in the same directory as this notebook).\n",
    "\n",
    "The example data consists of temperature measurements at several locations in Western Australia during the time period 30-11-2020 to 02-11-2020."
   ]
  },
  {
   "cell_type": "code",
   "execution_count": null,
   "id": "0ded6147",
   "metadata": {},
   "outputs": [],
   "source": []
  }
 ],
 "metadata": {
  "kernelspec": {
   "display_name": "Python 3",
   "language": "python",
   "name": "python3"
  },
  "language_info": {
   "codemirror_mode": {
    "name": "ipython",
    "version": 3
   },
   "file_extension": ".py",
   "mimetype": "text/x-python",
   "name": "python",
   "nbconvert_exporter": "python",
   "pygments_lexer": "ipython3",
   "version": "3.9.5"
  }
 },
 "nbformat": 4,
 "nbformat_minor": 5
}
